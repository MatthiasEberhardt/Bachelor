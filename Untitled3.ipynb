{
 "cells": [
  {
   "cell_type": "code",
   "execution_count": 25,
   "metadata": {},
   "outputs": [],
   "source": [
    "import numpy as np\n",
    "from PIL import Image\n",
    "\n",
    "black=[]\n",
    "\n",
    "for i in range(100):\n",
    "    img=np.zeros((50,50))\n",
    "    x=np.random.randint(0,10)\n",
    "    #print(x)\n",
    "    img=img+x\n",
    "    #print(img)\n",
    "    black.append(img.astype(np.uint8))\n",
    "\n",
    "dot=[]\n",
    "for i in range(100):\n",
    "    img=np.zeros((50,50))\n",
    "    img=img+np.random.randint(0,10)\n",
    "    x=np.random.randint(5,45)\n",
    "    y=np.random.randint(5,45)\n",
    "    img[x,y]=255\n",
    "    dot.append(img.astype(np.uint8))"
   ]
  },
  {
   "cell_type": "code",
   "execution_count": 26,
   "metadata": {},
   "outputs": [],
   "source": [
    "p=r\"C:\\Users\\Almut Eberhardt\\Desktop\\Bachelor_Notebook\\Test_IM\"\n",
    "for i,index in zip(black,range(len(black))):\n",
    "    im = Image.fromarray(i)\n",
    "    im.save(p+r\"\\Black\\\\\"+str(index)+\".jpg\")\n",
    "for i,index in zip(dot,range(len(dot))):\n",
    "    im = Image.fromarray(i)\n",
    "    #im.show()\n",
    "    im.save(p+r\"\\Dot\\\\\"+str(index)+\".jpg\")"
   ]
  },
  {
   "cell_type": "code",
   "execution_count": 16,
   "metadata": {},
   "outputs": [],
   "source": [
    "Image.fromarray??"
   ]
  },
  {
   "cell_type": "code",
   "execution_count": null,
   "metadata": {},
   "outputs": [],
   "source": []
  }
 ],
 "metadata": {
  "kernelspec": {
   "display_name": "Python 3",
   "language": "python",
   "name": "python3"
  },
  "language_info": {
   "codemirror_mode": {
    "name": "ipython",
    "version": 3
   },
   "file_extension": ".py",
   "mimetype": "text/x-python",
   "name": "python",
   "nbconvert_exporter": "python",
   "pygments_lexer": "ipython3",
   "version": "3.7.9"
  }
 },
 "nbformat": 4,
 "nbformat_minor": 4
}
