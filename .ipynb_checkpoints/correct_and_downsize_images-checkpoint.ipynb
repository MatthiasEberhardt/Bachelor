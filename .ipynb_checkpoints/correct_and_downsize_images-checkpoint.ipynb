{
 "cells": [
  {
   "cell_type": "code",
   "execution_count": 1,
   "metadata": {},
   "outputs": [],
   "source": [
    "from os import listdir\n",
    "from os.path import isfile, join\n",
    "import rasterio\n",
    "import rasterio.features\n",
    "import rasterio.warp\n",
    "from rasterio.plot import show\n",
    "from fastai.data.all import *\n",
    "from fastai.vision.all import *\n",
    "#from fastai.vision.image import *\n",
    "import fastbook\n",
    "fastbook.setup_book()\n",
    "from fastbook import *\n",
    "from fastai.vision.widgets import *\n",
    "import shutil\n",
    "from PIL import Image\n",
    "from matplotlib.pyplot import imshow\n",
    "import torch\n",
    "from torch.overrides import *\n",
    "from torch.nn.functional import *\n",
    "from torch.nn.modules.loss import _WeightedLoss\n",
    "from torch.nn import *"
   ]
  },
  {
   "cell_type": "code",
   "execution_count": 2,
   "metadata": {},
   "outputs": [],
   "source": [
    "data_path=r\"D:\\Bachelor\\data\"\n",
    "image_path=data_path+r\"\\ImageFiles\"\n",
    "image_path_reduced=data_path+r\"\\ImageFiles_reduced\"\n",
    "ship_image_path=image_path+r\"\\ships\"\n",
    "ship_image_path_reduced=image_path_reduced+r\"\\ships\"\n",
    "ship_csv_path=data_path+r\"shipsAIS_2017_Zone17.csv\"\n",
    "nonship_image_path=image_path+r\"\\non_ships\"\n",
    "nonship_image_path_reduced=image_path_reduced+r\"\\non_ships\"\n",
    "nonship_csv_path=data_path+r\"\\nonshipsAIS_2017_Zone17.csv\""
   ]
  },
  {
   "cell_type": "code",
   "execution_count": 3,
   "metadata": {},
   "outputs": [],
   "source": [
    "def crop(size,data,x=-1,y=-1):\n",
    "    rows = data.shape[1]\n",
    "    cols = data.shape[2]\n",
    "    mid_row=y\n",
    "    mid_col=x\n",
    "    if x==-1:\n",
    "        mid_row = int(rows/2)\n",
    "        mid_col = int(cols/2)\n",
    "    start_row = mid_row - int(size/2)\n",
    "    start_col = mid_col - int(size/2)\n",
    "    #col_dist, row_dist = np.random.randint(low=-self.randomnes, high=self.randomnes, size=2)\n",
    "    #start_row += row_dist\n",
    "    #start_col += col_dist\n",
    "    data = data[:,start_row : start_row+size, start_col: start_col+size]\n",
    "    return data"
   ]
  },
  {
   "cell_type": "code",
   "execution_count": 4,
   "metadata": {},
   "outputs": [],
   "source": [
    "#get dictionaries\n",
    "classifications={}\n",
    "coordinates={}\n",
    "reclassifications={}\n",
    "file_classifications = open('classifications.json', 'r')\n",
    "jsonstring_classifications=file_classifications.read()\n",
    "classifications = json.loads(jsonstring_classifications)\n",
    "\n",
    "file_coordinates = open('coordinates.json', 'r')\n",
    "jsonstring_coordinates=file_coordinates.read()\n",
    "coordinates = json.loads(jsonstring_coordinates)\n",
    "\n",
    "file_reclassifications = open('reclassifications.json', 'r')\n",
    "jsonstring_reclassifications=file_reclassifications.read()\n",
    "reclassifications = json.loads(jsonstring_reclassifications)"
   ]
  },
  {
   "cell_type": "code",
   "execution_count": 5,
   "metadata": {},
   "outputs": [],
   "source": [
    "def get_4ch_tif_files(path):\n",
    "    file_paths=[]\n",
    "    for root,directories,files in os.walk(path):\n",
    "        #print(root)\n",
    "        file_paths+=[Path(join(root,f)) for f in files if \".tif\" in f and \"udm\" not in f]\n",
    "    return L(file_paths)\n",
    "\n",
    "def get_data_y(item):\n",
    "    return Path(item).parent.parent.name"
   ]
  },
  {
   "cell_type": "code",
   "execution_count": 6,
   "metadata": {},
   "outputs": [],
   "source": [
    "files=get_4ch_tif_files(image_path)"
   ]
  },
  {
   "cell_type": "code",
   "execution_count": 8,
   "metadata": {},
   "outputs": [
    {
     "ename": "SyntaxError",
     "evalue": "(unicode error) 'unicodeescape' codec can't decode bytes in position 0-1: truncated \\uXXXX escape (<ipython-input-8-7fcca928731f>, line 7)",
     "output_type": "error",
     "traceback": [
      "\u001b[1;36m  File \u001b[1;32m\"<ipython-input-8-7fcca928731f>\"\u001b[1;36m, line \u001b[1;32m7\u001b[0m\n\u001b[1;33m    path=parent_path+\"\\unclassified_data\"+r\"\\\\original_as_\"+prev_cat+r\"\\\\\"+str(nr)+\".tif\"\u001b[0m\n\u001b[1;37m                    ^\u001b[0m\n\u001b[1;31mSyntaxError\u001b[0m\u001b[1;31m:\u001b[0m (unicode error) 'unicodeescape' codec can't decode bytes in position 0-1: truncated \\uXXXX escape\n"
     ]
    }
   ],
   "source": [
    "parent_path=r\"D:\\Bachelor\\data\\ImageFiles_downsized_and_cleaned2\"\n",
    "def crop_image(img,prev_cat,new_cat,nr,x=-1,y=-1,count=-1):\n",
    "    downsized_img=None\n",
    "    path=\"\"\n",
    "    if new_cat==None:\n",
    "        downsized_img=crop(400,img,x,y)\n",
    "        path=parent_path+r\"\\unclassified_data\"+r\"\\\\original_as_\"+prev_cat+r\"\\\\\"+str(nr)+\".tif\"\n",
    "    else:\n",
    "        if prev_cat==new_cat:\n",
    "            downsized_img=crop(400,img,x,y)\n",
    "            add_name=\"\"\n",
    "            if count>-1:\n",
    "                add_name=\"v\"+str(count)\n",
    "            path=parent_path+r\"\\classified_data\"+r\"\\\\\"+new_cat+r\"\\\\\"+prev_cat+\"_\"+str(nr)+add_name+\".tif\"\n",
    "        else:\n",
    "            if prev_cat==\"ship\":\n",
    "                downsized_img=crop(400,img,x,y)\n",
    "                path=parent_path+r\"\\classified_data\"+r\"\\\\\"+new_cat+r\"\\\\\"+prev_cat+\"_\"+str(nr)+\".tif\"\n",
    "            else:\n",
    "                downsized_img=crop(400,img,x,y)\n",
    "                path=parent_path+r\"\\classified_data\"+r\"\\\\\"+new_cat+r\"\\\\\"+prev_cat+\"_\"+str(nr)+\".tif\"\n",
    "    return (downsized_img,path)"
   ]
  },
  {
   "cell_type": "code",
   "execution_count": null,
   "metadata": {},
   "outputs": [],
   "source": [
    "i_s=0\n",
    "i_n=0\n",
    "#Cropper=crop_middle()\n",
    "for f in files:\n",
    "    #print(get_data_y(f))\n",
    "    ship=(get_data_y(f)==\"ships\")\n",
    "    nr=int(Path(f).parent.name)\n",
    "    cat=\"ship\" if ship else \"non_ship\"\n",
    "    file_name=str(nr)+\".tif\"\n",
    "    classification_percentage=float(sum(classifications[cat][file_name]))/float(len(classifications[cat][file_name]))\n",
    "    with rasterio.open(f) as data:\n",
    "        ras_meta = data.profile\n",
    "        d=data.read()\n",
    "        #data_red=crop(400,d)\n",
    "        #nr=int(Path(f).parent.name)\n",
    "        #cat=\"ship\" if ship else \"non_ship\"\n",
    "        #file_name=str(nr)+\".tif\"\n",
    "        #classification_percentage=float(sum(classifications[cat][file_name]))/float(len(classifications[cat][file_name]))\n",
    "        #print(nr)\n",
    "        #print(f)\n",
    "        #print(data_red.shape)\n",
    "        p=r\"D:\\Bachelor\\data\\ImageFiles_downsized_and_cleaned\"\n",
    "        #correctly classified\n",
    "        data_red=[]\n",
    "        if classification_percentage>0.6:\n",
    "            data_red.append(crop_image(d,cat,cat,nr))\n",
    "        elif classification_percentage<0.4:\n",
    "            if cat==\"ship\":\n",
    "                if str(nr) in coordinates and coordinates[str(nr)]:\n",
    "                    for coord_pair,c in zip(coordinates[str(nr)],range(0,len(coordinates[str(nr)]))):\n",
    "                        data_red.append(crop_image(d,cat,cat,nr,coord_pair[0],coord_pair[1],c))\n",
    "                    data_red.append(crop_image(d,cat,\"non_ship\",nr))\n",
    "                else:\n",
    "                    data_red.append(crop_image(d,cat,None,nr))\n",
    "            else:\n",
    "                if file_name in reclassifications[\"non_ship\"] and reclassifications[\"non_ship\"][file_name]==\"ship\":\n",
    "                    data_red.append(crop_image(d,cat,\"ship\",nr))\n",
    "                else:\n",
    "                    data_red.append(crop_image(d,cat,None,nr))\n",
    "        else:\n",
    "            data_red.append(crop_image(d,cat,None,nr))\n",
    "\n",
    "        ras_meta['width']=400\n",
    "        ras_meta['height']=400\n",
    "        for small_img,full_name in data_red:\n",
    "            with rasterio.open(full_name, 'w', **ras_meta) as dst:\n",
    "                dst.write(small_img)"
   ]
  },
  {
   "cell_type": "code",
   "execution_count": null,
   "metadata": {},
   "outputs": [],
   "source": []
  }
 ],
 "metadata": {
  "kernelspec": {
   "display_name": "Python 3",
   "language": "python",
   "name": "python3"
  },
  "language_info": {
   "codemirror_mode": {
    "name": "ipython",
    "version": 3
   },
   "file_extension": ".py",
   "mimetype": "text/x-python",
   "name": "python",
   "nbconvert_exporter": "python",
   "pygments_lexer": "ipython3",
   "version": "3.7.9"
  }
 },
 "nbformat": 4,
 "nbformat_minor": 4
}
