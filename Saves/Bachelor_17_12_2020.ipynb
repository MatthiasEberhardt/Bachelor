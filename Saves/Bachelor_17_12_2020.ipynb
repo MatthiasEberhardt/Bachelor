{
 "cells": [
  {
   "cell_type": "markdown",
   "metadata": {},
   "source": [
    "# Bachelor Notebook"
   ]
  },
  {
   "cell_type": "markdown",
   "metadata": {},
   "source": [
    "## Import Statements\n",
    "\n",
    "contains the import statements for all necessary packages"
   ]
  },
  {
   "cell_type": "code",
   "execution_count": 2,
   "metadata": {},
   "outputs": [],
   "source": [
    "from os import listdir\n",
    "from os.path import isfile, join\n",
    "import rasterio\n",
    "import rasterio.features\n",
    "import rasterio.warp\n",
    "from rasterio.plot import show\n",
    "from fastai.data.all import *\n",
    "from fastai.vision.all import *\n",
    "#from fastai.vision.image import *\n",
    "import fastbook\n",
    "fastbook.setup_book()\n",
    "from fastbook import *\n",
    "from fastai.vision.widgets import *\n",
    "import shutil\n",
    "from PIL import Image\n",
    "from matplotlib.pyplot import imshow\n",
    "import torch\n",
    "from torch.overrides import *\n",
    "from torch.nn.functional import *\n",
    "from torch.nn.modules.loss import _WeightedLoss\n",
    "from torch.nn import *\n",
    "#from IPython.core.debugg"
   ]
  },
  {
   "cell_type": "markdown",
   "metadata": {},
   "source": [
    "## Define paths\n",
    "define the paths to the relevant data"
   ]
  },
  {
   "cell_type": "code",
   "execution_count": 2,
   "metadata": {},
   "outputs": [],
   "source": [
    "data_path=r\"D:\\Bachelor\\data\"\n",
    "image_path=data_path+r\"\\ImageFiles\"\n",
    "image_path_reduced=data_path+r\"\\ImageFiles_reduced\"\n",
    "ship_image_path=image_path+r\"\\ships\"\n",
    "ship_image_path_reduced=image_path_reduced+r\"\\ships\"\n",
    "ship_csv_path=data_path+r\"shipsAIS_2017_Zone17.csv\"\n",
    "nonship_image_path=image_path+r\"\\non_ships\"\n",
    "nonship_image_path_reduced=image_path_reduced+r\"\\non_ships\"\n",
    "nonship_csv_path=data_path+r\"\\nonshipsAIS_2017_Zone17.csv\""
   ]
  },
  {
   "cell_type": "markdown",
   "metadata": {},
   "source": [
    "## Search for misplaced directories\n",
    "Some image directories are misplaced, instead of being located in ships or nonships, certain subdirectories are located in other subdirectories. The following method finds the affected subdirectories and prints them."
   ]
  },
  {
   "cell_type": "code",
   "execution_count": null,
   "metadata": {},
   "outputs": [],
   "source": [
    "def get_misplaced_directories(path):\n",
    "    misplaced_directories=[]\n",
    "    for d in listdir(path):\n",
    "        if os.path.isdir(join(path,d)):\n",
    "            for f in listdir(join(path,d)):\n",
    "                if os.path.isdir(join(join(path,d),f)):\n",
    "                    misplaced_directories.append(join(path,d))\n",
    "    return misplaced_directories"
   ]
  },
  {
   "cell_type": "code",
   "execution_count": null,
   "metadata": {
    "scrolled": true
   },
   "outputs": [],
   "source": [
    "get_misplaced_directories(ship_image_path)"
   ]
  },
  {
   "cell_type": "code",
   "execution_count": null,
   "metadata": {
    "scrolled": true
   },
   "outputs": [],
   "source": [
    "get_misplaced_directories(nonship_image_path)"
   ]
  },
  {
   "cell_type": "markdown",
   "metadata": {},
   "source": [
    "## Correct misplaced directories\n",
    "The following two methods correct the location of the aforementioned misplaced subdirectories."
   ]
  },
  {
   "cell_type": "code",
   "execution_count": null,
   "metadata": {},
   "outputs": [],
   "source": [
    "def correct_misplaced_directories(path):\n",
    "    misplaced_directories=[]\n",
    "    main_dir=listdir(path)\n",
    "    for d in main_dir:\n",
    "        sub_dir=join(path,d)\n",
    "        if os.path.isdir(sub_dir):\n",
    "            for f in listdir(sub_dir):\n",
    "                current_path=join(sub_dir,f)\n",
    "                if os.path.isdir(current_path):\n",
    "                    #misplaced_directories.append(current_directory)\n",
    "                    correct_misplaced_directories_r(path,current_path)\n",
    "                    #correct dir\n",
    "                    if f in main_dir:\n",
    "                        shutil.rmtree(current_path)\n",
    "                    else:\n",
    "                        shutil.move(current_path,path)\n",
    "\n",
    "def correct_misplaced_directories_r(main_path,path):\n",
    "    main_dir=listdir(main_path)\n",
    "    for d in listdir(path):\n",
    "        current_path=join(path,d)\n",
    "        if os.path.isdir(current_path):\n",
    "            correct_misplaced_directories_r(main_path,current_path)\n",
    "            #correct dir\n",
    "            if d in main_dir:\n",
    "                shutil.rmtree(current_path)\n",
    "            else:\n",
    "                shutil.move(current_path,main_path)\n",
    "        "
   ]
  },
  {
   "cell_type": "code",
   "execution_count": null,
   "metadata": {},
   "outputs": [],
   "source": [
    "correct_misplaced_directories(ship_image_path)\n",
    "correct_misplaced_directories(nonship_image_path)"
   ]
  },
  {
   "cell_type": "markdown",
   "metadata": {},
   "source": [
    "## Test"
   ]
  },
  {
   "cell_type": "code",
   "execution_count": null,
   "metadata": {},
   "outputs": [],
   "source": [
    "nonship_image_files = []# [f for f in dir1 for dir1 in listdir(nonship_image_path) if isfile(join(nonship_image_path,join(dir, f))) and \".tif\" in f]\n",
    "for directory in listdir(nonship_image_path):\n",
    "    nonship_image_files+=[join(join(nonship_image_path,directory),f) for f in os.listdir(join(nonship_image_path,directory)) if \".tif\" in f and \"udm\" not in f]\n",
    "#ship_image_files = [f for f in listdir(ship_image_path) if isfile(join(ship_image_path, f))]\n",
    "#ship_image_files = []# [f for f in dir1 for dir1 in listdir(nonship_image_path) if isfile(join(nonship_image_path,join(dir, f))) and \".tif\" in f]\n",
    "ship_image_files=[]\n",
    "for directory in listdir(ship_image_path):\n",
    "    ship_image_files+=[join(join(ship_image_path,directory),f) for f in os.listdir(join(ship_image_path,directory)) if \".tif\" in f and \"udm\" not in f]\n",
    "nonship_images=[rasterio.open(f) for f in nonship_image_files]\n",
    "ship_images=[rasterio.open(f) for f in ship_image_files] "
   ]
  },
  {
   "cell_type": "code",
   "execution_count": null,
   "metadata": {
    "scrolled": true
   },
   "outputs": [],
   "source": [
    "%matplotlib notebook\n",
    "sim=ship_images[0]\n",
    "arr=sim.read()\n",
    "arr=np.swapaxes(arr,0,2)\n",
    "#print(arr.shape)\n",
    "arr=arr[:,:,:3]\n",
    "m=arr.max()\n",
    "#print(arr.min())\n",
    "arr=arr/(m+1)*255\n",
    "imshow(arr.astype(np.uint8))#,norm=matplotlib.colors.Normalize(0,32000))\n",
    "#print(arr.astype(np.uint8).max())\n",
    "#print(arr.astype(np.uint8).min())"
   ]
  },
  {
   "cell_type": "markdown",
   "metadata": {},
   "source": [
    "## Test ImageReading"
   ]
  },
  {
   "cell_type": "code",
   "execution_count": null,
   "metadata": {},
   "outputs": [],
   "source": [
    "sim=ship_images[0]\n",
    "arr=sim.read()\n",
    "arr=np.swapaxes(arr,0,2)\n",
    "#print(arr.shape)\n",
    "arr=arr[:,:,:3]\n",
    "m=arr.max()\n",
    "#print(arr.min())\n",
    "arr=arr/(m+1)*255\n",
    "img=Image.fromarray(arr.astype(np.uint8),\"RGB\")\n",
    "img.show()"
   ]
  },
  {
   "cell_type": "markdown",
   "metadata": {},
   "source": [
    "## Getter functions\n",
    "definition of get_items and get_y for DataBlocks"
   ]
  },
  {
   "cell_type": "code",
   "execution_count": 3,
   "metadata": {},
   "outputs": [],
   "source": [
    "def get_4ch_tif_files(path):\n",
    "    file_paths=[]\n",
    "    for root,directories,files in os.walk(path):\n",
    "        #print(root)\n",
    "        file_paths+=[Path(join(root,f)) for f in files if \".tif\" in f and \"udm\" not in f]\n",
    "    return L(file_paths)\n",
    "\n",
    "def get_data_y(item):\n",
    "    return Path(item).parent.parent.name"
   ]
  },
  {
   "cell_type": "code",
   "execution_count": null,
   "metadata": {},
   "outputs": [],
   "source": [
    "type(get_image_files(ship_image_path))\n",
    "#type(get_image_files(ship_image_path)[0])"
   ]
  },
  {
   "cell_type": "code",
   "execution_count": null,
   "metadata": {},
   "outputs": [],
   "source": [
    "type(get_4ch_tif_files(ship_image_path))"
   ]
  },
  {
   "cell_type": "markdown",
   "metadata": {},
   "source": [
    "## Modified TensorImage"
   ]
  },
  {
   "cell_type": "code",
   "execution_count": 4,
   "metadata": {},
   "outputs": [],
   "source": [
    "class TensorImage4Ch(TensorImage):\n",
    "    def show(self, ctx=None, **kwargs):\n",
    "        rgbTensor=self[:3,:,:]\n",
    "        return show_image(rgbTensor, ctx=ctx, **{**self._show_args, **kwargs})\n",
    "        "
   ]
  },
  {
   "cell_type": "markdown",
   "metadata": {},
   "source": [
    "## Transform functions\n",
    "transformation functions for the independent variable"
   ]
  },
  {
   "cell_type": "code",
   "execution_count": 5,
   "metadata": {},
   "outputs": [],
   "source": [
    "width=-1\n",
    "height=-1\n",
    "\n",
    "\n",
    "def get_image(item):\n",
    "    img=rasterio.open(item)\n",
    "    b,g,r,n=img.read()\n",
    "    channels=tuple([r,g,b,n])\n",
    "    arr=np.dstack(channels)\n",
    "    arr=(arr/32000)\n",
    "    arr=(arr).astype(np.float32)\n",
    "    t=TensorImage4Ch(image2tensor(torch.Tensor(arr)))\n",
    "    t=t.type(torch.float32)\n",
    "    #print(t.shape)\n",
    "    return t#[:3,:,:]\n",
    "\n",
    "class crop_middle(Transform):\n",
    "    def __init__(self, size=400, randomnes=25):\n",
    "        self.size = size\n",
    "        self.randomnes = randomnes\n",
    "    def encodes(self, x:TensorImage):\n",
    "        data=x\n",
    "        rows = data.shape[1]\n",
    "        cols = data.shape[2]\n",
    "        mid_row = int(rows/2)\n",
    "        mid_col = int(cols/2)\n",
    "        start_row = mid_row - int(self.size/2)\n",
    "        start_col = mid_col - int(self.size/2)\n",
    "        col_dist, row_dist = np.random.randint(low=-self.randomnes, high=self.randomnes, size=2)\n",
    "        start_row += row_dist\n",
    "        start_col += col_dist\n",
    "        data = data[:,start_row : start_row+self.size, start_col: start_col+self.size]\n",
    "        return data"
   ]
  },
  {
   "cell_type": "markdown",
   "metadata": {},
   "source": [
    "## One Hot Encoded Category"
   ]
  },
  {
   "cell_type": "code",
   "execution_count": null,
   "metadata": {},
   "outputs": [],
   "source": [
    "#copied from https://github.com/fastai/fastai/blob/f633356359a29f8d869ce36659f7aa25660e946a/fastai/data/transforms.py#L230\n",
    "class Categorize_OneHot(DisplayedTransform):\n",
    "    \"Reversible transform of category string to `vocab` id\"\n",
    "    loss_func,order=CrossEntropyLossFlat(),1\n",
    "    def __init__(self, vocab=None, sort=True, add_na=False):\n",
    "        if vocab is not None: vocab = CategoryMap(vocab, sort=sort, add_na=add_na)\n",
    "        store_attr()\n",
    "\n",
    "    def setups(self, dsets):\n",
    "        if self.vocab is None and dsets is not None: self.vocab = CategoryMap(dsets, sort=self.sort, add_na=self.add_na)\n",
    "        self.c = len(self.vocab)\n",
    "\n",
    "    def encodes(self, o):\n",
    "        try:\n",
    "            #change to one-hot-encoding\n",
    "            \n",
    "            length=len(self.vocab.o2i)\n",
    "            y_vec=torch.zeros(length)\n",
    "            y_vec[self.vocab.o2i[o]]=1\n",
    "            return TensorCategory(y_vec.type(torch.LongTensor))#TensorCategory(self.vocab.o2i[o])\n",
    "        except KeyError as e:\n",
    "            raise KeyError(f\"Label '{o}' was not included in the training dataset\") from e\n",
    "    #change\n",
    "    def decodes(self, o): \n",
    "        index=torch.argmax(o)\n",
    "        return Category(self.vocab[index])"
   ]
  },
  {
   "cell_type": "markdown",
   "metadata": {},
   "source": [
    "## CategoryBlock, output as float"
   ]
  },
  {
   "cell_type": "code",
   "execution_count": null,
   "metadata": {},
   "outputs": [],
   "source": [
    "#copied from https://github.com/fastai/fastai/blob/f633356359a29f8d869ce36659f7aa25660e946a/fastai/data/transforms.py#L230\n",
    "class Categorize32f(DisplayedTransform):\n",
    "    \"Reversible transform of category string to `vocab` id\"\n",
    "    loss_func,order=CrossEntropyLossFlat(),1\n",
    "    def __init__(self, vocab=None, sort=True, add_na=False):\n",
    "        if vocab is not None: vocab = CategoryMap(vocab, sort=sort, add_na=add_na)\n",
    "        store_attr()\n",
    "\n",
    "    def setups(self, dsets):\n",
    "        if self.vocab is None and dsets is not None: self.vocab = CategoryMap(dsets, sort=self.sort, add_na=self.add_na)\n",
    "        self.c = len(self.vocab)\n",
    "\n",
    "    def encodes(self, o):\n",
    "        try:\n",
    "            return TensorCategory(self.vocab.o2i[o]).type(torch.float32)\n",
    "        except KeyError as e:\n",
    "            raise KeyError(f\"Label '{o}' was not included in the training dataset\") from e\n",
    "    def decodes(self, o): return Category      (self.vocab    [o.type(torch.int32)])"
   ]
  },
  {
   "cell_type": "markdown",
   "metadata": {},
   "source": [
    "## Load Data\n",
    "definition of the DataBlock"
   ]
  },
  {
   "cell_type": "code",
   "execution_count": null,
   "metadata": {},
   "outputs": [],
   "source": [
    "Resize??"
   ]
  },
  {
   "cell_type": "code",
   "execution_count": null,
   "metadata": {},
   "outputs": [],
   "source": [
    "images=DataBlock(\n",
    "    blocks=(TransformBlock([get_image]),CategoryBlock),\n",
    "    #TransformBlock(type_tfms=Categorize_OneHot(vocab=None, sort=True, add_na=False))),\n",
    "    #TransformBlock(type_tfms=Categorize32f(vocab=None, sort=True, add_na=False))),\n",
    "    get_items=get_4ch_tif_files,\n",
    "    splitter=RandomSplitter(valid_pct=0.2,seed=42),\n",
    "    get_y=get_data_y,\n",
    "    item_tfms=crop_middle(size=300),\n",
    "    batch_tfms=aug_transforms())"
   ]
  },
  {
   "cell_type": "code",
   "execution_count": null,
   "metadata": {
    "scrolled": true
   },
   "outputs": [],
   "source": [
    "dls=images.dataloaders(image_path,num_workers=0,bs=32)\n",
    "dls.valid.show_batch(max_n=8, nrows=1)\n"
   ]
  },
  {
   "cell_type": "code",
   "execution_count": 6,
   "metadata": {},
   "outputs": [],
   "source": [
    "images_reduced=DataBlock(\n",
    "    blocks=(TransformBlock([get_image]),CategoryBlock),\n",
    "    #TransformBlock(type_tfms=Categorize_OneHot(vocab=None, sort=True, add_na=False))),\n",
    "    #TransformBlock(type_tfms=Categorize32f(vocab=None, sort=True, add_na=False))),\n",
    "    get_items=get_4ch_tif_files,\n",
    "    splitter=RandomSplitter(valid_pct=0.2,seed=42),\n",
    "    get_y=get_data_y,\n",
    "    item_tfms=crop_middle(size=300))"
   ]
  },
  {
   "cell_type": "code",
   "execution_count": 7,
   "metadata": {},
   "outputs": [
    {
     "data": {
      "image/png": "[encoded data removed]",
      "text/plain": [
       "<Figure size 1728x216 with 8 Axes>"
      ]
     },
     "metadata": {
      "needs_background": "light"
     },
     "output_type": "display_data"
    }
   ],
   "source": [
    "dls_red=images_reduced.dataloaders(image_path_reduced,num_workers=0,bs=12)\n",
    "dls_red.valid.show_batch(max_n=8, nrows=1)"
   ]
  },
  {
   "cell_type": "code",
   "execution_count": null,
   "metadata": {
    "scrolled": true
   },
   "outputs": [],
   "source": [
    "dls.valid"
   ]
  },
  {
   "cell_type": "code",
   "execution_count": null,
   "metadata": {
    "scrolled": true
   },
   "outputs": [],
   "source": [
    "x,y=first(dls_red.valid)"
   ]
  },
  {
   "cell_type": "code",
   "execution_count": null,
   "metadata": {},
   "outputs": [],
   "source": [
    "x"
   ]
  },
  {
   "cell_type": "code",
   "execution_count": null,
   "metadata": {},
   "outputs": [],
   "source": [
    "y"
   ]
  },
  {
   "cell_type": "markdown",
   "metadata": {},
   "source": [
    "## further tests"
   ]
  },
  {
   "cell_type": "code",
   "execution_count": null,
   "metadata": {},
   "outputs": [],
   "source": [
    "nonship_images[5].shape\n"
   ]
  },
  {
   "cell_type": "code",
   "execution_count": null,
   "metadata": {},
   "outputs": [],
   "source": [
    "show(ship_images[8].read(4))\n",
    "np.max(ship_images[8].count)"
   ]
  },
  {
   "cell_type": "code",
   "execution_count": null,
   "metadata": {},
   "outputs": [],
   "source": [
    "ship_images[7]"
   ]
  },
  {
   "cell_type": "markdown",
   "metadata": {},
   "source": [
    "## Training"
   ]
  },
  {
   "cell_type": "code",
   "execution_count": null,
   "metadata": {},
   "outputs": [],
   "source": [
    "learn = cnn_learner(dls, resnet18, metrics=error_rate)"
   ]
  },
  {
   "cell_type": "markdown",
   "metadata": {},
   "source": [
    "## Test"
   ]
  },
  {
   "cell_type": "code",
   "execution_count": null,
   "metadata": {},
   "outputs": [],
   "source": [
    "ts=aug_transforms()"
   ]
  },
  {
   "cell_type": "code",
   "execution_count": null,
   "metadata": {},
   "outputs": [],
   "source": [
    "from fastai.vision.models import *"
   ]
  },
  {
   "cell_type": "code",
   "execution_count": null,
   "metadata": {},
   "outputs": [],
   "source": [
    "resnet34??"
   ]
  },
  {
   "cell_type": "markdown",
   "metadata": {},
   "source": [
    "## Network Test"
   ]
  },
  {
   "cell_type": "code",
   "execution_count": 8,
   "metadata": {},
   "outputs": [],
   "source": [
    "class Test_Net(nn.Module):\n",
    "    def __init__(self):\n",
    "        super(Test_Net,self).__init__()\n",
    "        self.Conv1=nn.Conv2d(4,50,kernel_size=3,padding=1)\n",
    "        self.ReLU1=nn.ReLU()\n",
    "        self.Pool1=nn.MaxPool2d(kernel_size=2)\n",
    "        self.Conv2=nn.Conv2d(50,24,kernel_size=3,padding=1)\n",
    "        self.ReLU2=nn.ReLU()\n",
    "        self.Pool2=nn.MaxPool2d(kernel_size=2)\n",
    "        self.Conv3=nn.Conv2d(24,4,kernel_size=3,padding=1)\n",
    "        self.ReLU3=nn.ReLU()\n",
    "        self.Pool3=nn.MaxPool2d(kernel_size=2)\n",
    "        #print(type(self.Pool3))\n",
    "        self.Flat1=Flatten()\n",
    "        self.Dense1=nn.Linear(5476,100)\n",
    "        self.ReLU4=nn.ReLU()\n",
    "        self.Dense2=nn.Linear(100,1)\n",
    "        self.ReLU5=nn.ReLU()\n",
    "        #self.Softmax=nn.Softmax(dim=1)\n",
    "        #self.Flat2=Flatten()\n",
    "    def forward(self,x):\n",
    "        #print(\"forward\")\n",
    "        res=self.Conv1(x)\n",
    "        res=self.ReLU1(res)\n",
    "        res=self.Pool1(res)\n",
    "        res=self.Conv2(res)\n",
    "        res=self.ReLU2(res)\n",
    "        res=self.Pool2(res)\n",
    "        res=self.Conv3(res)\n",
    "        res=self.ReLU3(res)\n",
    "        res=self.Pool3(res)\n",
    "        res=self.Flat1(res)\n",
    "        res=self.Dense1(res)\n",
    "        res=self.ReLU4(res)\n",
    "        res=self.Dense2(res)\n",
    "        #res=self.Softmax(res)\n",
    "        #res=self.Flat2(res)\n",
    "        res=self.ReLU5(res)\n",
    "        return res"
   ]
  },
  {
   "cell_type": "code",
   "execution_count": null,
   "metadata": {},
   "outputs": [],
   "source": [
    "class Test_Net2(nn.Module):\n",
    "    def __init__(self):\n",
    "        super(Test_Net2,self).__init__()\n",
    "        self.Conv1=nn.Conv2d(4,120,kernel_size=3,padding=1)\n",
    "        self.ReLU1=nn.ReLU()\n",
    "        self.Pool1=nn.MaxPool2d(kernel_size=2)\n",
    "        self.Conv2=nn.Conv2d(120,24,kernel_size=3,padding=1)\n",
    "        self.ReLU2=nn.ReLU()\n",
    "        self.Pool2=nn.MaxPool2d(kernel_size=2)\n",
    "        self.Conv3=nn.Conv2d(24,4,kernel_size=3,padding=1)\n",
    "        self.ReLU3=nn.ReLU()\n",
    "        self.Pool3=nn.MaxPool2d(kernel_size=2)\n",
    "        #print(type(self.Pool3))\n",
    "        self.Conv4=nn.Conv2d(4,1,kernel_size=3,padding=1)\n",
    "        self.ReLU4=nn.ReLU()\n",
    "        self.Pool4=nn.MaxPool2d(kernel_size=2)\n",
    "        self.Dense1=nn.Linear(5476,100)\n",
    "        self.ReLU5=nn.ReLU()\n",
    "        self.Dense2=nn.Linear(100,1)\n",
    "        self.ReLU6=nn.ReLU()\n",
    "        #self.Softmax=nn.Softmax(dim=1)\n",
    "        #self.Flat2=Flatten()\n",
    "    def forward(self,x):\n",
    "        print(\"forward\")\n",
    "        res=self.Conv1(x)\n",
    "        res=self.ReLU1(res)\n",
    "        res=self.Pool1(res)\n",
    "        res=self.Conv2(res)\n",
    "        res=self.ReLU2(res)\n",
    "        res=self.Pool2(res)\n",
    "        res=self.Conv3(res)\n",
    "        res=self.ReLU3(res)\n",
    "        res=self.Pool3(res)\n",
    "        res=self.Conv4(res)\n",
    "        res=self.ReLU4(res)\n",
    "        res=self.Pool4(res)\n",
    "        print(res.shape)\n",
    "        #res=self.Flat1(res)\n",
    "        res=self.Dense1(res)\n",
    "        res=self.ReLU5(res)\n",
    "        res=self.Dense2(res)\n",
    "        #res=self.Softmax(res)\n",
    "        #res=self.Flat2(res)\n",
    "        res=self.ReLU6(res)\n",
    "        return res"
   ]
  },
  {
   "cell_type": "code",
   "execution_count": null,
   "metadata": {},
   "outputs": [],
   "source": [
    "first_test=nn.Sequential(nn.Conv2d(4,10,kernel_size=3,padding=1),nn.ReLU(),nn.MaxPool2d(kernel_size=2),\n",
    "                         nn.Conv2d(10,8,kernel_size=3,padding=1),nn.ReLU(),nn.MaxPool2d(kernel_size=2),\n",
    "                         nn.Conv2d(8,4,kernel_size=3,padding=1),nn.ReLU(),nn.MaxPool2d(kernel_size=2),\n",
    "                         Flatten(),\n",
    "                         nn.Linear(5476,100),nn.ReLU(),\n",
    "                         nn.Linear(100,1),nn.Softmax(dim=1))"
   ]
  },
  {
   "cell_type": "code",
   "execution_count": null,
   "metadata": {},
   "outputs": [],
   "source": [
    "x=to_cpu(x)\n",
    "first_test(x).shape"
   ]
  },
  {
   "cell_type": "code",
   "execution_count": null,
   "metadata": {},
   "outputs": [],
   "source": [
    "x=torch.randn(32,1,18,18)\n",
    "x.shape\n",
    "l=nn.Linear(5476,100)\n",
    "x=l(x)"
   ]
  },
  {
   "cell_type": "code",
   "execution_count": 9,
   "metadata": {},
   "outputs": [],
   "source": [
    "tn=Test_Net()"
   ]
  },
  {
   "cell_type": "code",
   "execution_count": null,
   "metadata": {
    "scrolled": true
   },
   "outputs": [],
   "source": [
    "x=to_cpu(x)\n",
    "x=tn(x)\n",
    "x"
   ]
  },
  {
   "cell_type": "code",
   "execution_count": 3,
   "metadata": {},
   "outputs": [],
   "source": [
    "accuracy??"
   ]
  },
  {
   "cell_type": "code",
   "execution_count": 4,
   "metadata": {},
   "outputs": [],
   "source": [
    "flatten_check??"
   ]
  },
  {
   "cell_type": "code",
   "execution_count": 10,
   "metadata": {},
   "outputs": [],
   "source": [
    "def metric_function(pred,targ):\n",
    "    cuda0 = torch.device('cuda:0')\n",
    "    pointfive_tensor=torch.zeros(pred.shape,device=cuda0).float()+0.5\n",
    "    print(pred)\n",
    "    print(targ)\n",
    "    return ((pred>pointfive_tensor)==targ).float().mean()"
   ]
  },
  {
   "cell_type": "code",
   "execution_count": null,
   "metadata": {},
   "outputs": [],
   "source": [
    "def accuracy_mod(inp, targ, axis=-1):\n",
    "    \"Compute accuracy with `targ` when `pred` is bs * n_classes\"\n",
    "    pred,targ = flatten_check(inp.argmax(dim=axis), targ)\n",
    "    print(pred)\n",
    "    return (pred == targ).float().mean()"
   ]
  },
  {
   "cell_type": "code",
   "execution_count": 12,
   "metadata": {},
   "outputs": [],
   "source": [
    "learn = Learner(dls_red, tn, loss_func=BCELoss_mod(), metrics=metric_function)"
   ]
  },
  {
   "cell_type": "code",
   "execution_count": 13,
   "metadata": {
    "scrolled": false
   },
   "outputs": [
    {
     "data": {
      "text/html": [
       "<table border=\"1\" class=\"dataframe\">\n",
       "  <thead>\n",
       "    <tr style=\"text-align: left;\">\n",
       "      <th>epoch</th>\n",
       "      <th>train_loss</th>\n",
       "      <th>valid_loss</th>\n",
       "      <th>metric_function</th>\n",
       "      <th>time</th>\n",
       "    </tr>\n",
       "  </thead>\n",
       "  <tbody>\n",
       "    <tr>\n",
       "      <td>0</td>\n",
       "      <td>1.219111</td>\n",
       "      <td>0.995832</td>\n",
       "      <td>0.538462</td>\n",
       "      <td>00:24</td>\n",
       "    </tr>\n",
       "    <tr>\n",
       "      <td>1</td>\n",
       "      <td>1.071572</td>\n",
       "      <td>0.737868</td>\n",
       "      <td>0.538462</td>\n",
       "      <td>00:24</td>\n",
       "    </tr>\n",
       "    <tr>\n",
       "      <td>2</td>\n",
       "      <td>0.921255</td>\n",
       "      <td>0.719859</td>\n",
       "      <td>0.461538</td>\n",
       "      <td>00:24</td>\n",
       "    </tr>\n",
       "    <tr>\n",
       "      <td>3</td>\n",
       "      <td>0.843561</td>\n",
       "      <td>0.697221</td>\n",
       "      <td>0.461538</td>\n",
       "      <td>00:24</td>\n",
       "    </tr>\n",
       "    <tr>\n",
       "      <td>4</td>\n",
       "      <td>0.799305</td>\n",
       "      <td>0.691072</td>\n",
       "      <td>0.538462</td>\n",
       "      <td>00:24</td>\n",
       "    </tr>\n",
       "    <tr>\n",
       "      <td>5</td>\n",
       "      <td>0.768563</td>\n",
       "      <td>0.695919</td>\n",
       "      <td>0.461538</td>\n",
       "      <td>00:24</td>\n",
       "    </tr>\n",
       "    <tr>\n",
       "      <td>6</td>\n",
       "      <td>0.747875</td>\n",
       "      <td>0.699288</td>\n",
       "      <td>0.461538</td>\n",
       "      <td>00:24</td>\n",
       "    </tr>\n",
       "    <tr>\n",
       "      <td>7</td>\n",
       "      <td>0.733216</td>\n",
       "      <td>0.700042</td>\n",
       "      <td>0.461538</td>\n",
       "      <td>00:24</td>\n",
       "    </tr>\n",
       "    <tr>\n",
       "      <td>8</td>\n",
       "      <td>0.722837</td>\n",
       "      <td>0.699782</td>\n",
       "      <td>0.461538</td>\n",
       "      <td>00:24</td>\n",
       "    </tr>\n",
       "    <tr>\n",
       "      <td>9</td>\n",
       "      <td>0.714840</td>\n",
       "      <td>0.699525</td>\n",
       "      <td>0.461538</td>\n",
       "      <td>00:24</td>\n",
       "    </tr>\n",
       "  </tbody>\n",
       "</table>"
      ],
      "text/plain": [
       "<IPython.core.display.HTML object>"
      ]
     },
     "metadata": {},
     "output_type": "display_data"
    },
    {
     "name": "stdout",
     "output_type": "stream",
     "text": [
      "tensor([[0.1391],\n",
      "        [0.1387],\n",
      "        [0.1383],\n",
      "        [0.1388],\n",
      "        [0.1386],\n",
      "        [0.1401],\n",
      "        [0.1386],\n",
      "        [0.1384],\n",
      "        [0.1386],\n",
      "        [0.1360],\n",
      "        [0.1365],\n",
      "        [0.1358]], device='cuda:0')\n",
      "TensorCategory([0, 0, 0, 0, 1, 0, 1, 0, 1, 0, 1, 1], device='cuda:0', dtype=torch.int32)\n",
      "tensor([[0.1371],\n",
      "        [0.1385],\n",
      "        [0.1385],\n",
      "        [0.1379],\n",
      "        [0.1382],\n",
      "        [0.1395],\n",
      "        [0.1395],\n",
      "        [0.1395],\n",
      "        [0.1400],\n",
      "        [0.1373],\n",
      "        [0.1274],\n",
      "        [0.1371]], device='cuda:0')\n",
      "TensorCategory([1, 0, 1, 0, 1, 0, 1, 0, 1, 1, 1, 1], device='cuda:0', dtype=torch.int32)\n",
      "tensor([[0.1388],\n",
      "        [0.1391],\n",
      "        [0.1385],\n",
      "        [0.1387],\n",
      "        [0.1369],\n",
      "        [0.1355],\n",
      "        [0.1391],\n",
      "        [0.1381],\n",
      "        [0.1364],\n",
      "        [0.1399],\n",
      "        [0.1399],\n",
      "        [0.1382]], device='cuda:0')\n",
      "TensorCategory([0, 0, 0, 0, 0, 0, 0, 0, 1, 1, 1, 1], device='cuda:0', dtype=torch.int32)\n",
      "tensor([[0.1379],\n",
      "        [0.1360],\n",
      "        [0.1380]], device='cuda:0')\n",
      "TensorCategory([0, 0, 1], device='cuda:0', dtype=torch.int32)\n",
      "tensor([[0.3184],\n",
      "        [0.3171],\n",
      "        [0.3175],\n",
      "        [0.3182],\n",
      "        [0.3171],\n",
      "        [0.3184],\n",
      "        [0.3170],\n",
      "        [0.3179],\n",
      "        [0.3188],\n",
      "        [0.3145],\n",
      "        [0.3122],\n",
      "        [0.3103]], device='cuda:0')\n",
      "TensorCategory([0, 0, 0, 0, 1, 0, 1, 0, 1, 0, 1, 1], device='cuda:0', dtype=torch.int32)\n",
      "tensor([[0.3131],\n",
      "        [0.3179],\n",
      "        [0.3171],\n",
      "        [0.3175],\n",
      "        [0.3164],\n",
      "        [0.3184],\n",
      "        [0.3185],\n",
      "        [0.3184],\n",
      "        [0.3182],\n",
      "        [0.3162],\n",
      "        [0.3039],\n",
      "        [0.3169]], device='cuda:0')\n",
      "TensorCategory([1, 0, 1, 0, 1, 0, 1, 0, 1, 1, 1, 1], device='cuda:0', dtype=torch.int32)\n",
      "tensor([[0.3175],\n",
      "        [0.3184],\n",
      "        [0.3181],\n",
      "        [0.3172],\n",
      "        [0.3136],\n",
      "        [0.3132],\n",
      "        [0.3184],\n",
      "        [0.3165],\n",
      "        [0.3126],\n",
      "        [0.3178],\n",
      "        [0.3185],\n",
      "        [0.3165]], device='cuda:0')\n",
      "TensorCategory([0, 0, 0, 0, 0, 0, 0, 0, 1, 1, 1, 1], device='cuda:0', dtype=torch.int32)\n",
      "tensor([[0.3169],\n",
      "        [0.3143],\n",
      "        [0.3172]], device='cuda:0')\n",
      "TensorCategory([0, 0, 1], device='cuda:0', dtype=torch.int32)\n",
      "tensor([[0.5810],\n",
      "        [0.5794],\n",
      "        [0.5854],\n",
      "        [0.5832],\n",
      "        [0.5807],\n",
      "        [0.5741],\n",
      "        [0.5804],\n",
      "        [0.5856],\n",
      "        [0.5879],\n",
      "        [0.5912],\n",
      "        [0.5855],\n",
      "        [0.5888]], device='cuda:0')\n",
      "TensorCategory([0, 0, 0, 0, 1, 0, 1, 0, 1, 0, 1, 1], device='cuda:0', dtype=torch.int32)\n",
      "tensor([[0.5817],\n",
      "        [0.5852],\n",
      "        [0.5806],\n",
      "        [0.5878],\n",
      "        [0.5819],\n",
      "        [0.5776],\n",
      "        [0.5791],\n",
      "        [0.5778],\n",
      "        [0.5736],\n",
      "        [0.5885],\n",
      "        [0.6180],\n",
      "        [0.5905]], device='cuda:0')\n",
      "TensorCategory([1, 0, 1, 0, 1, 0, 1, 0, 1, 1, 1, 1], device='cuda:0', dtype=torch.int32)\n",
      "tensor([[0.5796],\n",
      "        [0.5814],\n",
      "        [0.5847],\n",
      "        [0.5796],\n",
      "        [0.5859],\n",
      "        [0.5964],\n",
      "        [0.5812],\n",
      "        [0.5831],\n",
      "        [0.5865],\n",
      "        [0.5729],\n",
      "        [0.5757],\n",
      "        [0.5824]], device='cuda:0')\n",
      "TensorCategory([0, 0, 0, 0, 0, 0, 0, 0, 1, 1, 1, 1], device='cuda:0', dtype=torch.int32)\n",
      "tensor([[0.5862],\n",
      "        [0.5920],\n",
      "        [0.5863]], device='cuda:0')\n",
      "TensorCategory([0, 0, 1], device='cuda:0', dtype=torch.int32)\n",
      "tensor([[0.5190],\n",
      "        [0.5179],\n",
      "        [0.5222],\n",
      "        [0.5204],\n",
      "        [0.5187],\n",
      "        [0.5147],\n",
      "        [0.5183],\n",
      "        [0.5223],\n",
      "        [0.5244],\n",
      "        [0.5266],\n",
      "        [0.5221],\n",
      "        [0.5245]], device='cuda:0')\n",
      "TensorCategory([0, 0, 0, 0, 1, 0, 1, 0, 1, 0, 1, 1], device='cuda:0', dtype=torch.int32)\n",
      "tensor([[0.5190],\n",
      "        [0.5221],\n",
      "        [0.5186],\n",
      "        [0.5240],\n",
      "        [0.5198],\n",
      "        [0.5165],\n",
      "        [0.5178],\n",
      "        [0.5165],\n",
      "        [0.5143],\n",
      "        [0.5246],\n",
      "        [0.5396],\n",
      "        [0.5258]], device='cuda:0')\n",
      "TensorCategory([1, 0, 1, 0, 1, 0, 1, 0, 1, 1, 1, 1], device='cuda:0', dtype=torch.int32)\n",
      "tensor([[0.5181],\n",
      "        [0.5192],\n",
      "        [0.5218],\n",
      "        [0.5180],\n",
      "        [0.5219],\n",
      "        [0.5337],\n",
      "        [0.5191],\n",
      "        [0.5203],\n",
      "        [0.5237],\n",
      "        [0.5136],\n",
      "        [0.5162],\n",
      "        [0.5195]], device='cuda:0')\n",
      "TensorCategory([0, 0, 0, 0, 0, 0, 0, 0, 1, 1, 1, 1], device='cuda:0', dtype=torch.int32)\n",
      "tensor([[0.5226],\n",
      "        [0.5273],\n",
      "        [0.5228]], device='cuda:0')\n",
      "TensorCategory([0, 0, 1], device='cuda:0', dtype=torch.int32)\n",
      "tensor([[0.4728],\n",
      "        [0.4717],\n",
      "        [0.4745],\n",
      "        [0.4737],\n",
      "        [0.4724],\n",
      "        [0.4698],\n",
      "        [0.4722],\n",
      "        [0.4748],\n",
      "        [0.4760],\n",
      "        [0.4753],\n",
      "        [0.4728],\n",
      "        [0.4743]], device='cuda:0')\n",
      "TensorCategory([0, 0, 0, 0, 1, 0, 1, 0, 1, 0, 1, 1], device='cuda:0', dtype=torch.int32)\n",
      "tensor([[0.4707],\n",
      "        [0.4746],\n",
      "        [0.4723],\n",
      "        [0.4752],\n",
      "        [0.4727],\n",
      "        [0.4710],\n",
      "        [0.4719],\n",
      "        [0.4711],\n",
      "        [0.4695],\n",
      "        [0.4748],\n",
      "        [0.4772],\n",
      "        [0.4756]], device='cuda:0')\n",
      "TensorCategory([1, 0, 1, 0, 1, 0, 1, 0, 1, 1, 1, 1], device='cuda:0', dtype=torch.int32)\n",
      "tensor([[0.4720],\n",
      "        [0.4730],\n",
      "        [0.4747],\n",
      "        [0.4719],\n",
      "        [0.4733],\n",
      "        [0.4784],\n",
      "        [0.4729],\n",
      "        [0.4732],\n",
      "        [0.4734],\n",
      "        [0.4688],\n",
      "        [0.4707],\n",
      "        [0.4726]], device='cuda:0')\n",
      "TensorCategory([0, 0, 0, 0, 0, 0, 0, 0, 1, 1, 1, 1], device='cuda:0', dtype=torch.int32)\n",
      "tensor([[0.4745],\n",
      "        [0.4755],\n",
      "        [0.4746]], device='cuda:0')\n",
      "TensorCategory([0, 0, 1], device='cuda:0', dtype=torch.int32)\n",
      "tensor([[0.5116],\n",
      "        [0.5105],\n",
      "        [0.5140],\n",
      "        [0.5127],\n",
      "        [0.5110],\n",
      "        [0.5076],\n",
      "        [0.5109],\n",
      "        [0.5144],\n",
      "        [0.5155],\n",
      "        [0.5160],\n",
      "        [0.5129],\n",
      "        [0.5147]], device='cuda:0')\n",
      "TensorCategory([0, 0, 0, 0, 1, 0, 1, 0, 1, 0, 1, 1], device='cuda:0', dtype=torch.int32)\n",
      "tensor([[0.5098],\n",
      "        [0.5140],\n",
      "        [0.5112],\n",
      "        [0.5151],\n",
      "        [0.5119],\n",
      "        [0.5093],\n",
      "        [0.5099],\n",
      "        [0.5094],\n",
      "        [0.5072],\n",
      "        [0.5150],\n",
      "        [0.5202],\n",
      "        [0.5165]], device='cuda:0')\n",
      "TensorCategory([1, 0, 1, 0, 1, 0, 1, 0, 1, 1, 1, 1], device='cuda:0', dtype=torch.int32)\n",
      "tensor([[0.5107],\n",
      "        [0.5118],\n",
      "        [0.5141],\n",
      "        [0.5106],\n",
      "        [0.5131],\n",
      "        [0.5200],\n",
      "        [0.5117],\n",
      "        [0.5126],\n",
      "        [0.5139],\n",
      "        [0.5066],\n",
      "        [0.5089],\n",
      "        [0.5117]], device='cuda:0')\n",
      "TensorCategory([0, 0, 0, 0, 0, 0, 0, 0, 1, 1, 1, 1], device='cuda:0', dtype=torch.int32)\n",
      "tensor([[0.5142],\n",
      "        [0.5161],\n",
      "        [0.5142]], device='cuda:0')\n",
      "TensorCategory([0, 0, 1], device='cuda:0', dtype=torch.int32)\n",
      "tensor([[0.5256],\n",
      "        [0.5243],\n",
      "        [0.5284],\n",
      "        [0.5269],\n",
      "        [0.5251],\n",
      "        [0.5211],\n",
      "        [0.5251],\n",
      "        [0.5286],\n",
      "        [0.5301],\n",
      "        [0.5309],\n",
      "        [0.5273],\n",
      "        [0.5286]], device='cuda:0')\n",
      "TensorCategory([0, 0, 0, 0, 1, 0, 1, 0, 1, 0, 1, 1], device='cuda:0', dtype=torch.int32)\n",
      "tensor([[0.5241],\n",
      "        [0.5283],\n",
      "        [0.5251],\n",
      "        [0.5295],\n",
      "        [0.5258],\n",
      "        [0.5230],\n",
      "        [0.5243],\n",
      "        [0.5231],\n",
      "        [0.5207],\n",
      "        [0.5297],\n",
      "        [0.5364],\n",
      "        [0.5309]], device='cuda:0')\n",
      "TensorCategory([1, 0, 1, 0, 1, 0, 1, 0, 1, 1, 1, 1], device='cuda:0', dtype=torch.int32)\n",
      "tensor([[0.5247],\n",
      "        [0.5258],\n",
      "        [0.5285],\n",
      "        [0.5246],\n",
      "        [0.5280],\n",
      "        [0.5360],\n",
      "        [0.5257],\n",
      "        [0.5269],\n",
      "        [0.5290],\n",
      "        [0.5200],\n",
      "        [0.5223],\n",
      "        [0.5260]], device='cuda:0')\n",
      "TensorCategory([0, 0, 0, 0, 0, 0, 0, 0, 1, 1, 1, 1], device='cuda:0', dtype=torch.int32)\n",
      "tensor([[0.5288],\n",
      "        [0.5314],\n",
      "        [0.5287]], device='cuda:0')\n",
      "TensorCategory([0, 0, 1], device='cuda:0', dtype=torch.int32)\n",
      "tensor([[0.5285],\n",
      "        [0.5272],\n",
      "        [0.5314],\n",
      "        [0.5297],\n",
      "        [0.5280],\n",
      "        [0.5238],\n",
      "        [0.5280],\n",
      "        [0.5317],\n",
      "        [0.5329],\n",
      "        [0.5342],\n",
      "        [0.5307],\n",
      "        [0.5328]], device='cuda:0')\n",
      "TensorCategory([0, 0, 0, 0, 1, 0, 1, 0, 1, 0, 1, 1], device='cuda:0', dtype=torch.int32)\n",
      "tensor([[0.5270],\n",
      "        [0.5314],\n",
      "        [0.5281],\n",
      "        [0.5327],\n",
      "        [0.5291],\n",
      "        [0.5258],\n",
      "        [0.5268],\n",
      "        [0.5259],\n",
      "        [0.5234],\n",
      "        [0.5328],\n",
      "        [0.5393],\n",
      "        [0.5346]], device='cuda:0')\n",
      "TensorCategory([1, 0, 1, 0, 1, 0, 1, 0, 1, 1, 1, 1], device='cuda:0', dtype=torch.int32)\n"
     ]
    },
    {
     "name": "stdout",
     "output_type": "stream",
     "text": [
      "tensor([[0.5276],\n",
      "        [0.5287],\n",
      "        [0.5316],\n",
      "        [0.5275],\n",
      "        [0.5310],\n",
      "        [0.5389],\n",
      "        [0.5286],\n",
      "        [0.5299],\n",
      "        [0.5316],\n",
      "        [0.5226],\n",
      "        [0.5249],\n",
      "        [0.5290]], device='cuda:0')\n",
      "TensorCategory([0, 0, 0, 0, 0, 0, 0, 0, 1, 1, 1, 1], device='cuda:0', dtype=torch.int32)\n",
      "tensor([[0.5319],\n",
      "        [0.5346],\n",
      "        [0.5320]], device='cuda:0')\n",
      "TensorCategory([0, 0, 1], device='cuda:0', dtype=torch.int32)\n",
      "tensor([[0.5277],\n",
      "        [0.5265],\n",
      "        [0.5307],\n",
      "        [0.5291],\n",
      "        [0.5273],\n",
      "        [0.5230],\n",
      "        [0.5274],\n",
      "        [0.5310],\n",
      "        [0.5325],\n",
      "        [0.5335],\n",
      "        [0.5301],\n",
      "        [0.5328]], device='cuda:0')\n",
      "TensorCategory([0, 0, 0, 0, 1, 0, 1, 0, 1, 0, 1, 1], device='cuda:0', dtype=torch.int32)\n",
      "tensor([[0.5264],\n",
      "        [0.5307],\n",
      "        [0.5274],\n",
      "        [0.5321],\n",
      "        [0.5283],\n",
      "        [0.5250],\n",
      "        [0.5259],\n",
      "        [0.5251],\n",
      "        [0.5225],\n",
      "        [0.5322],\n",
      "        [0.5381],\n",
      "        [0.5338]], device='cuda:0')\n",
      "TensorCategory([1, 0, 1, 0, 1, 0, 1, 0, 1, 1, 1, 1], device='cuda:0', dtype=torch.int32)\n",
      "tensor([[0.5269],\n",
      "        [0.5280],\n",
      "        [0.5308],\n",
      "        [0.5267],\n",
      "        [0.5303],\n",
      "        [0.5376],\n",
      "        [0.5279],\n",
      "        [0.5292],\n",
      "        [0.5317],\n",
      "        [0.5218],\n",
      "        [0.5241],\n",
      "        [0.5283]], device='cuda:0')\n",
      "TensorCategory([0, 0, 0, 0, 0, 0, 0, 0, 1, 1, 1, 1], device='cuda:0', dtype=torch.int32)\n",
      "tensor([[0.5312],\n",
      "        [0.5341],\n",
      "        [0.5312]], device='cuda:0')\n",
      "TensorCategory([0, 0, 1], device='cuda:0', dtype=torch.int32)\n",
      "tensor([[0.5268],\n",
      "        [0.5255],\n",
      "        [0.5297],\n",
      "        [0.5280],\n",
      "        [0.5263],\n",
      "        [0.5220],\n",
      "        [0.5262],\n",
      "        [0.5300],\n",
      "        [0.5314],\n",
      "        [0.5327],\n",
      "        [0.5292],\n",
      "        [0.5300]], device='cuda:0')\n",
      "TensorCategory([0, 0, 0, 0, 1, 0, 1, 0, 1, 0, 1, 1], device='cuda:0', dtype=torch.int32)\n",
      "tensor([[0.5254],\n",
      "        [0.5297],\n",
      "        [0.5263],\n",
      "        [0.5310],\n",
      "        [0.5272],\n",
      "        [0.5240],\n",
      "        [0.5251],\n",
      "        [0.5241],\n",
      "        [0.5216],\n",
      "        [0.5312],\n",
      "        [0.5387],\n",
      "        [0.5326]], device='cuda:0')\n",
      "TensorCategory([1, 0, 1, 0, 1, 0, 1, 0, 1, 1, 1, 1], device='cuda:0', dtype=torch.int32)\n",
      "tensor([[0.5258],\n",
      "        [0.5270],\n",
      "        [0.5299],\n",
      "        [0.5257],\n",
      "        [0.5293],\n",
      "        [0.5359],\n",
      "        [0.5269],\n",
      "        [0.5282],\n",
      "        [0.5303],\n",
      "        [0.5209],\n",
      "        [0.5230],\n",
      "        [0.5273]], device='cuda:0')\n",
      "TensorCategory([0, 0, 0, 0, 0, 0, 0, 0, 1, 1, 1, 1], device='cuda:0', dtype=torch.int32)\n",
      "tensor([[0.5302],\n",
      "        [0.5330],\n",
      "        [0.5301]], device='cuda:0')\n",
      "TensorCategory([0, 0, 1], device='cuda:0', dtype=torch.int32)\n"
     ]
    }
   ],
   "source": [
    "learn.fit_one_cycle(10, 0.0001)"
   ]
  },
  {
   "cell_type": "code",
   "execution_count": null,
   "metadata": {},
   "outputs": [],
   "source": [
    "cleaner = ImageClassifierCleaner(learn)\n",
    "cleaner"
   ]
  },
  {
   "cell_type": "code",
   "execution_count": null,
   "metadata": {},
   "outputs": [],
   "source": [
    "learn.show_results()"
   ]
  },
  {
   "cell_type": "code",
   "execution_count": null,
   "metadata": {},
   "outputs": [],
   "source": [
    "type(x)"
   ]
  },
  {
   "cell_type": "code",
   "execution_count": null,
   "metadata": {
    "scrolled": true
   },
   "outputs": [],
   "source": [
    "learn.fine_tune(5)"
   ]
  },
  {
   "cell_type": "code",
   "execution_count": null,
   "metadata": {},
   "outputs": [],
   "source": [
    "lr_min,lr_steep = learn.lr_find()"
   ]
  },
  {
   "cell_type": "code",
   "execution_count": null,
   "metadata": {},
   "outputs": [],
   "source": [
    "learn.fine_tune??"
   ]
  },
  {
   "cell_type": "code",
   "execution_count": null,
   "metadata": {
    "scrolled": true
   },
   "outputs": [],
   "source": [
    "has_torch_function??"
   ]
  },
  {
   "cell_type": "code",
   "execution_count": null,
   "metadata": {},
   "outputs": [],
   "source": [
    "accuracy??"
   ]
  },
  {
   "cell_type": "code",
   "execution_count": null,
   "metadata": {},
   "outputs": [],
   "source": [
    "from torch.overrides import *"
   ]
  },
  {
   "cell_type": "code",
   "execution_count": null,
   "metadata": {
    "scrolled": true
   },
   "outputs": [],
   "source": [
    "learn.summary()"
   ]
  },
  {
   "cell_type": "code",
   "execution_count": null,
   "metadata": {},
   "outputs": [],
   "source": [
    "F.cross_entropy(torch.tensor(3),torch.tensor(5))"
   ]
  },
  {
   "cell_type": "code",
   "execution_count": null,
   "metadata": {},
   "outputs": [],
   "source": [
    "def x_entropy(input, target):#, weight, size_average, ignore_index, reduce, reduction):\n",
    "    print(input)\n",
    "    print(target)\n",
    "    F.cross_entropy(input, target.type(torch.long))#, weight, size_average, ignore_index, reduce, reduction)"
   ]
  },
  {
   "cell_type": "code",
   "execution_count": null,
   "metadata": {},
   "outputs": [],
   "source": [
    "F.cross_entropy??"
   ]
  },
  {
   "cell_type": "code",
   "execution_count": null,
   "metadata": {},
   "outputs": [],
   "source": [
    "def x_entropy_v2(input, target, weight=None, size_average=None, ignore_index=-100,\n",
    "                  reduce=None, reduction='mean'):\n",
    "    # type: (Tensor, Tensor, Optional[Tensor], Optional[bool], int, Optional[bool], str) -> Tensor\n",
    "    target=target.type(torch.long)\n",
    "    #target=tensor(target)\n",
    "    #target = torch.empty_like(target).copy_(target)\n",
    "    #print(input.shape)\n",
    "    #print(target.shape)\n",
    "    #print(type(input))\n",
    "    #print(type(target))\n",
    "    r\"\"\"This criterion combines `log_softmax` and `nll_loss` in a single\n",
    "    function.\n",
    "\n",
    "    See :class:`~torch.nn.CrossEntropyLoss` for details.\n",
    "\n",
    "    Args:\n",
    "        input (Tensor) : :math:`(N, C)` where `C = number of classes` or :math:`(N, C, H, W)`\n",
    "            in case of 2D Loss, or :math:`(N, C, d_1, d_2, ..., d_K)` where :math:`K \\geq 1`\n",
    "            in the case of K-dimensional loss.\n",
    "        target (Tensor) : :math:`(N)` where each value is :math:`0 \\leq \\text{targets}[i] \\leq C-1`,\n",
    "            or :math:`(N, d_1, d_2, ..., d_K)` where :math:`K \\geq 1` for\n",
    "            K-dimensional loss.\n",
    "        weight (Tensor, optional): a manual rescaling weight given to each\n",
    "            class. If given, has to be a Tensor of size `C`\n",
    "        size_average (bool, optional): Deprecated (see :attr:`reduction`). By default,\n",
    "            the losses are averaged over each loss element in the batch. Note that for\n",
    "            some losses, there multiple elements per sample. If the field :attr:`size_average`\n",
    "            is set to ``False``, the losses are instead summed for each minibatch. Ignored\n",
    "            when reduce is ``False``. Default: ``True``\n",
    "        ignore_index (int, optional): Specifies a target value that is ignored\n",
    "            and does not contribute to the input gradient. When :attr:`size_average` is\n",
    "            ``True``, the loss is averaged over non-ignored targets. Default: -100\n",
    "        reduce (bool, optional): Deprecated (see :attr:`reduction`). By default, the\n",
    "            losses are averaged or summed over observations for each minibatch depending\n",
    "            on :attr:`size_average`. When :attr:`reduce` is ``False``, returns a loss per\n",
    "            batch element instead and ignores :attr:`size_average`. Default: ``True``\n",
    "        reduction (string, optional): Specifies the reduction to apply to the output:\n",
    "            ``'none'`` | ``'mean'`` | ``'sum'``. ``'none'``: no reduction will be applied,\n",
    "            ``'mean'``: the sum of the output will be divided by the number of\n",
    "            elements in the output, ``'sum'``: the output will be summed. Note: :attr:`size_average`\n",
    "            and :attr:`reduce` are in the process of being deprecated, and in the meantime,\n",
    "            specifying either of those two args will override :attr:`reduction`. Default: ``'mean'``\n",
    "\n",
    "    Examples::\n",
    "\n",
    "        >>> input = torch.randn(3, 5, requires_grad=True)\n",
    "        >>> target = torch.randint(5, (3,), dtype=torch.int64)\n",
    "        >>> loss = F.cross_entropy(input, target)\n",
    "        >>> loss.backward()\n",
    "    \"\"\"\n",
    "    if not torch.jit.is_scripting():\n",
    "        tens_ops = (input, target)\n",
    "        if any([type(t) is not Tensor for t in tens_ops]) and has_torch_function(tens_ops):\n",
    "            return handle_torch_function(\n",
    "                cross_entropy, tens_ops, input, target, weight=weight,\n",
    "                size_average=size_average, ignore_index=ignore_index, reduce=reduce,\n",
    "                reduction=reduction)\n",
    "    if size_average is not None or reduce is not None:\n",
    "        reduction = _Reduction.legacy_get_string(size_average, reduce)\n",
    "    return nll_loss(log_softmax(input, 1), target, weight, None, ignore_index, None, reduction)"
   ]
  },
  {
   "cell_type": "code",
   "execution_count": null,
   "metadata": {},
   "outputs": [],
   "source": [
    "F.cross_entropy??"
   ]
  },
  {
   "cell_type": "code",
   "execution_count": null,
   "metadata": {},
   "outputs": [],
   "source": [
    "input = torch.randn(3, 5, requires_grad=True)\n",
    "target = torch.randint(5, (3,), dtype=torch.int64)\n",
    "target=TensorCategory(target)\n",
    "loss = x_entropy_v2(input, target)\n",
    "loss.backward()"
   ]
  },
  {
   "cell_type": "code",
   "execution_count": 11,
   "metadata": {},
   "outputs": [],
   "source": [
    "class BCELoss_mod(_WeightedLoss):\n",
    "    r\"\"\"Creates a criterion that measures the Binary Cross Entropy\n",
    "    between the target and the output:\n",
    "\n",
    "    The unreduced (i.e. with :attr:`reduction` set to ``'none'``) loss can be described as:\n",
    "\n",
    "    .. math::\n",
    "        \\ell(x, y) = L = \\{l_1,\\dots,l_N\\}^\\top, \\quad\n",
    "        l_n = - w_n \\left[ y_n \\cdot \\log x_n + (1 - y_n) \\cdot \\log (1 - x_n) \\right],\n",
    "\n",
    "    where :math:`N` is the batch size. If :attr:`reduction` is not ``'none'``\n",
    "    (default ``'mean'``), then\n",
    "\n",
    "    .. math::\n",
    "        \\ell(x, y) = \\begin{cases}\n",
    "            \\operatorname{mean}(L), & \\text{if reduction} = \\text{'mean';}\\\\\n",
    "            \\operatorname{sum}(L),  & \\text{if reduction} = \\text{'sum'.}\n",
    "        \\end{cases}\n",
    "\n",
    "    This is used for measuring the error of a reconstruction in for example\n",
    "    an auto-encoder. Note that the targets :math:`y` should be numbers\n",
    "    between 0 and 1.\n",
    "\n",
    "    Notice that if :math:`x_n` is either 0 or 1, one of the log terms would be\n",
    "    mathematically undefined in the above loss equation. PyTorch chooses to set\n",
    "    :math:`\\log (0) = -\\infty`, since :math:`\\lim_{x\\to 0} \\log (x) = -\\infty`.\n",
    "    However, an infinite term in the loss equation is not desirable for several reasons.\n",
    "\n",
    "    For one, if either :math:`y_n = 0` or :math:`(1 - y_n) = 0`, then we would be\n",
    "    multiplying 0 with infinity. Secondly, if we have an infinite loss value, then\n",
    "    we would also have an infinite term in our gradient, since\n",
    "    :math:`\\lim_{x\\to 0} \\frac{d}{dx} \\log (x) = \\infty`.\n",
    "    This would make BCELoss's backward method nonlinear with respect to :math:`x_n`,\n",
    "    and using it for things like linear regression would not be straight-forward.\n",
    "\n",
    "    Our solution is that BCELoss clamps its log function outputs to be greater than\n",
    "    or equal to -100. This way, we can always have a finite loss value and a linear\n",
    "    backward method.\n",
    "\n",
    "\n",
    "    Args:\n",
    "        weight (Tensor, optional): a manual rescaling weight given to the loss\n",
    "            of each batch element. If given, has to be a Tensor of size `nbatch`.\n",
    "        size_average (bool, optional): Deprecated (see :attr:`reduction`). By default,\n",
    "            the losses are averaged over each loss element in the batch. Note that for\n",
    "            some losses, there are multiple elements per sample. If the field :attr:`size_average`\n",
    "            is set to ``False``, the losses are instead summed for each minibatch. Ignored\n",
    "            when reduce is ``False``. Default: ``True``\n",
    "        reduce (bool, optional): Deprecated (see :attr:`reduction`). By default, the\n",
    "            losses are averaged or summed over observations for each minibatch depending\n",
    "            on :attr:`size_average`. When :attr:`reduce` is ``False``, returns a loss per\n",
    "            batch element instead and ignores :attr:`size_average`. Default: ``True``\n",
    "        reduction (string, optional): Specifies the reduction to apply to the output:\n",
    "            ``'none'`` | ``'mean'`` | ``'sum'``. ``'none'``: no reduction will be applied,\n",
    "            ``'mean'``: the sum of the output will be divided by the number of\n",
    "            elements in the output, ``'sum'``: the output will be summed. Note: :attr:`size_average`\n",
    "            and :attr:`reduce` are in the process of being deprecated, and in the meantime,\n",
    "            specifying either of those two args will override :attr:`reduction`. Default: ``'mean'``\n",
    "\n",
    "    Shape:\n",
    "        - Input: :math:`(N, *)` where :math:`*` means, any number of additional\n",
    "          dimensions\n",
    "        - Target: :math:`(N, *)`, same shape as the input\n",
    "        - Output: scalar. If :attr:`reduction` is ``'none'``, then :math:`(N, *)`, same\n",
    "          shape as input.\n",
    "\n",
    "    Examples::\n",
    "\n",
    "        >>> m = nn.Sigmoid()\n",
    "        >>> loss = nn.BCELoss()\n",
    "        >>> input = torch.randn(3, requires_grad=True)\n",
    "        >>> target = torch.empty(3).random_(2)\n",
    "        >>> output = loss(m(input), target)\n",
    "        >>> output.backward()\n",
    "    \"\"\"\n",
    "    __constants__ = ['reduction']\n",
    "\n",
    "    def __init__(self, weight: Optional[Tensor] = None, size_average=None, reduce=None, reduction: str = 'mean') -> None:\n",
    "        super(BCELoss_mod, self).__init__(weight, size_average, reduce, reduction)\n",
    "\n",
    "    def forward(self, input: Tensor, target: Tensor) -> Tensor:\n",
    "        #print(input.shape)\n",
    "        target=target[:,None]\n",
    "        target=target.type(torch.float)\n",
    "        #print(target.shape)\n",
    "        return F.binary_cross_entropy(input, target, weight=self.weight, reduction=self.reduction)\n"
   ]
  },
  {
   "cell_type": "code",
   "execution_count": null,
   "metadata": {},
   "outputs": [],
   "source": [
    "from torch.nn.modules.loss import _WeightedLoss\n",
    "from torch.nn import *"
   ]
  },
  {
   "cell_type": "code",
   "execution_count": null,
   "metadata": {},
   "outputs": [],
   "source": [
    "m = nn.Sigmoid()\n",
    "loss = torch.nn.BCELoss()\n",
    "input = torch.randn(3, requires_grad=True)\n",
    "target = torch.empty(3).random_(2)\n",
    "output = loss(m(input), target)\n",
    "a=output.backward()\n",
    "type(a)"
   ]
  },
  {
   "cell_type": "code",
   "execution_count": null,
   "metadata": {},
   "outputs": [],
   "source": []
  },
  {
   "cell_type": "code",
   "execution_count": null,
   "metadata": {},
   "outputs": [],
   "source": []
  }
 ],
 "metadata": {
  "kernelspec": {
   "display_name": "Python 3",
   "language": "python",
   "name": "python3"
  },
  "language_info": {
   "codemirror_mode": {
    "name": "ipython",
    "version": 3
   },
   "file_extension": ".py",
   "mimetype": "text/x-python",
   "name": "python",
   "nbconvert_exporter": "python",
   "pygments_lexer": "ipython3",
   "version": "3.7.9"
  }
 },
 "nbformat": 4,
 "nbformat_minor": 4
}
